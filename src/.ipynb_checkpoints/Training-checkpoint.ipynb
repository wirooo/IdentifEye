{
 "cells": [
  {
   "cell_type": "code",
   "execution_count": 1,
   "id": "informal-october",
   "metadata": {},
   "outputs": [],
   "source": [
    "import torch\n",
    "import torch.nn as nn\n",
    "from torchvision import transforms\n",
    "from torchvision.transforms import ToTensor, Resize, Normalize\n",
    "import numpy as np\n",
    "import pandas as pd\n",
    "from torchvision import utils\n",
    "from torchvision import datasets, models, transforms\n",
    "from torch.utils.data import DataLoader\n",
    "import torch.optim as optim\n",
    "from torch.optim import lr_scheduler\n",
    "import time"
   ]
  },
  {
   "cell_type": "code",
   "execution_count": 2,
   "id": "configured-renaissance",
   "metadata": {},
   "outputs": [],
   "source": [
    "def get_transforms(kind=\"train\"):\n",
    "    if kind==\"train\":\n",
    "        return transforms.Compose([\n",
    "            transforms.Resize((224, 224)),\n",
    "            transforms.RandomHorizontalFlip(0.5),\n",
    "            transforms.ToTensor(),\n",
    "            transforms.Normalize([0.485, 0.456, 0.406], [0.229, 0.224, 0.225])\n",
    "        ])\n",
    "    else:\n",
    "        return transforms.Compose([\n",
    "            transforms.Resize((224, 224)),\n",
    "            transforms.ToTensor(),\n",
    "            transforms.Normalize([0.485, 0.456, 0.406], [0.229, 0.224, 0.225])\n",
    "        ])"
   ]
  },
  {
   "cell_type": "code",
   "execution_count": 3,
   "id": "driving-aside",
   "metadata": {},
   "outputs": [
    {
     "ename": "FileNotFoundError",
     "evalue": "[WinError 3] The system cannot find the path specified: 'photos/train'",
     "output_type": "error",
     "traceback": [
      "\u001b[1;31m---------------------------------------------------------------------------\u001b[0m",
      "\u001b[1;31mFileNotFoundError\u001b[0m                         Traceback (most recent call last)",
      "\u001b[1;32m<ipython-input-3-d103db15802a>\u001b[0m in \u001b[0;36m<module>\u001b[1;34m\u001b[0m\n\u001b[0;32m      6\u001b[0m \u001b[1;32mfor\u001b[0m \u001b[0mpth\u001b[0m \u001b[1;32min\u001b[0m \u001b[1;33m[\u001b[0m\u001b[1;34m\"photos/train\"\u001b[0m\u001b[1;33m,\u001b[0m \u001b[1;34m\"photos/val\"\u001b[0m\u001b[1;33m]\u001b[0m\u001b[1;33m:\u001b[0m\u001b[1;33m\u001b[0m\u001b[1;33m\u001b[0m\u001b[0m\n\u001b[0;32m      7\u001b[0m     \u001b[1;32mif\u001b[0m \u001b[1;32mnot\u001b[0m \u001b[0mos\u001b[0m\u001b[1;33m.\u001b[0m\u001b[0mpath\u001b[0m\u001b[1;33m.\u001b[0m\u001b[0mexists\u001b[0m\u001b[1;33m(\u001b[0m\u001b[0mpth\u001b[0m\u001b[1;33m)\u001b[0m\u001b[1;33m:\u001b[0m\u001b[1;33m\u001b[0m\u001b[1;33m\u001b[0m\u001b[0m\n\u001b[1;32m----> 8\u001b[1;33m         \u001b[0mos\u001b[0m\u001b[1;33m.\u001b[0m\u001b[0mmkdir\u001b[0m\u001b[1;33m(\u001b[0m\u001b[0mpth\u001b[0m\u001b[1;33m)\u001b[0m\u001b[1;33m\u001b[0m\u001b[1;33m\u001b[0m\u001b[0m\n\u001b[0m\u001b[0;32m      9\u001b[0m \u001b[1;33m\u001b[0m\u001b[0m\n\u001b[0;32m     10\u001b[0m \u001b[0mimg_src\u001b[0m \u001b[1;33m=\u001b[0m \u001b[1;34m\"photos/labelled\"\u001b[0m\u001b[1;33m\u001b[0m\u001b[1;33m\u001b[0m\u001b[0m\n",
      "\u001b[1;31mFileNotFoundError\u001b[0m: [WinError 3] The system cannot find the path specified: 'photos/train'"
     ]
    }
   ],
   "source": [
    "# prepare train/valid folders\n",
    "import os\n",
    "from shutil import copyfile\n",
    "import random\n",
    "\n",
    "for pth in [\"../photos/train\", \"../photos/val\"]:\n",
    "    if not os.path.exists(pth):\n",
    "        os.mkdir(pth)\n",
    "\n",
    "img_src = \"../photos/labelled\"\n",
    "\n",
    "train_val_split = 0.85\n",
    "for name in os.listdir(img_src):\n",
    "    img_path = os.path.join(img_src, name)\n",
    "    imgs = os.listdir(img_path)\n",
    "    for pth in [os.path.join(\"../photos/train\", name), os.path.join(\"../photos/val\", name)]:\n",
    "        if not os.path.exists(pth):\n",
    "            os.mkdir(pth)\n",
    "    for i in range(len(imgs)):\n",
    "#         if i <= len(imgs) * train_val_split:\n",
    "        if random.random() < train_val_split:\n",
    "            # place in test\n",
    "            copyfile(os.path.join(img_path, imgs[i]), os.path.join(\"../photos/train\", name, imgs[i]))\n",
    "        else:\n",
    "            # place in valid\n",
    "            copyfile(os.path.join(img_path, imgs[i]), os.path.join(\"../photos/val\", name, imgs[i]))\n",
    "            "
   ]
  },
  {
   "cell_type": "code",
   "execution_count": 4,
   "id": "muslim-foundation",
   "metadata": {},
   "outputs": [
    {
     "data": {
      "text/plain": [
       "device(type='cuda')"
      ]
     },
     "execution_count": 4,
     "metadata": {},
     "output_type": "execute_result"
    }
   ],
   "source": [
    "train_src = \"../photos/train\"\n",
    "val_src = \"../photos/val\"\n",
    "\n",
    "train_ds = datasets.ImageFolder(train_src, get_transforms(\"train\"))\n",
    "val_ds = datasets.ImageFolder(val_src, get_transforms(\"val\"))\n",
    "\n",
    "train_dl = DataLoader(train_ds, batch_size=4, shuffle=True)\n",
    "val_dl = DataLoader(val_ds, batch_size=4, shuffle=True)\n",
    "device = torch.device(\"cuda\" if torch.cuda.is_available() else \"cpu\")\n",
    "device"
   ]
  },
  {
   "cell_type": "code",
   "execution_count": null,
   "id": "pending-porcelain",
   "metadata": {},
   "outputs": [],
   "source": [
    "from torchvision.models import resnet18\n",
    "model_conv = resnet18(pretrained=True)\n",
    "for param in model_conv.parameters():\n",
    "    param.requires_grad = False\n",
    "    "
   ]
  },
  {
   "cell_type": "code",
   "execution_count": null,
   "id": "helpful-walker",
   "metadata": {},
   "outputs": [],
   "source": [
    "in_ftrs = model_conv.fc.in_features\n",
    "model_conv.fc = nn.Sequential(nn.Linear(in_ftrs, len(os.listdir(img_src))), nn.Sigmoid())\n",
    "\n",
    "criterion = nn.CrossEntropyLoss()\n",
    "\n",
    "opt = optim.Adam(model_conv.fc.parameters(), lr=1e-3)\n",
    "\n",
    "lr_scheduler = lr_scheduler.StepLR(opt, step_size=7, gamma=0.1)"
   ]
  },
  {
   "cell_type": "code",
   "execution_count": null,
   "id": "cooperative-variety",
   "metadata": {},
   "outputs": [],
   "source": [
    "import copy\n",
    "\n",
    "def train_fn(model, dataloaders, optimizer, criterion, scheduler, device, num_epochs):\n",
    "    best_acc = -1\n",
    "    best_model = copy.deepcopy(model.state_dict())\n",
    "    for epoch in range(num_epochs):\n",
    "        print(f\"Epoch {epoch}\", \"-\"*10)\n",
    "        \n",
    "        for phase in [\"train\", \"val\"]:\n",
    "            \n",
    "            if phase == 'train':\n",
    "                model.train()  \n",
    "            else:\n",
    "                model.eval()\n",
    "            \n",
    "            running_loss = []\n",
    "            running_acc = []\n",
    "            \n",
    "            for step, (imgs, lbls) in enumerate(dataloaders[phase]):\n",
    "                imgs, lbls = imgs.to(device), lbls.to(device)\n",
    "                optimizer.zero_grad()\n",
    "                \n",
    "                with torch.set_grad_enabled(phase == \"train\"):\n",
    "                    outputs = model(imgs)\n",
    "                    value, preds = torch.max(outputs, 1)\n",
    "                    loss = criterion(outputs, lbls)\n",
    "                    \n",
    "                    if phase == \"train\":\n",
    "                        loss.backward()\n",
    "                        optimizer.step()\n",
    "                running_loss.append(loss.item() * imgs.size(0))\n",
    "                running_acc.append((torch.sum(preds == lbls)/ imgs.size(0)).cpu())\n",
    "                \n",
    "            if phase == \"train\":\n",
    "                scheduler.step()\n",
    "                \n",
    "            epoch_loss = np.mean(running_loss)\n",
    "            epoch_acc = np.mean(running_acc)\n",
    "            print(f\"{phase}, Loss: {epoch_loss}, Acc: {epoch_acc}\")\n",
    "            \n",
    "            if phase == \"val\" and epoch_acc > best_acc:\n",
    "                best_acc = epoch_acc\n",
    "                best_model = copy.deepcopy(model.state_dict())\n",
    "\n",
    "    model.load_state_dict(best_model)\n",
    "    return model           \n",
    "            "
   ]
  },
  {
   "cell_type": "code",
   "execution_count": null,
   "id": "muslim-election",
   "metadata": {
    "scrolled": true
   },
   "outputs": [],
   "source": [
    "dls = {\"train\": train_dl, \"val\": val_dl}\n",
    "model_conv = train_fn(model_conv.to(device), dls, opt, criterion, lr_scheduler, device, 25)"
   ]
  },
  {
   "cell_type": "code",
   "execution_count": null,
   "id": "ranging-speech",
   "metadata": {},
   "outputs": [],
   "source": [
    "torch.save(model_conv.state_dict(), \"model_save/model.pth\")\n",
    "np.save(\"../model_save/class_names.npy\", train_ds.classes)"
   ]
  }
 ],
 "metadata": {
  "kernelspec": {
   "display_name": "identifeye_venv37",
   "language": "python",
   "name": "identifeye_venv37"
  },
  "language_info": {
   "codemirror_mode": {
    "name": "ipython",
    "version": 3
   },
   "file_extension": ".py",
   "mimetype": "text/x-python",
   "name": "python",
   "nbconvert_exporter": "python",
   "pygments_lexer": "ipython3",
   "version": "3.7.9"
  }
 },
 "nbformat": 4,
 "nbformat_minor": 5
}
